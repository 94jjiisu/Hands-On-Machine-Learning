{
  "nbformat": 4,
  "nbformat_minor": 5,
  "metadata": {
    "kernelspec": {
      "display_name": "Python 3 (ipykernel)",
      "language": "python",
      "name": "python3"
    },
    "language_info": {
      "codemirror_mode": {
        "name": "ipython",
        "version": 3
      },
      "file_extension": ".py",
      "mimetype": "text/x-python",
      "name": "python",
      "nbconvert_exporter": "python",
      "pygments_lexer": "ipython3",
      "version": "3.8.5"
    },
    "colab": {
      "name": "01.ipynb",
      "provenance": [],
      "include_colab_link": true
    }
  },
  "cells": [
    {
      "cell_type": "markdown",
      "metadata": {
        "id": "view-in-github",
        "colab_type": "text"
      },
      "source": [
        "<a href=\"https://colab.research.google.com/github/94jjiisu/Hands-On-Machine-Learning/blob/main/01.ipynb\" target=\"_parent\"><img src=\"https://colab.research.google.com/assets/colab-badge.svg\" alt=\"Open In Colab\"/></a>"
      ]
    },
    {
      "cell_type": "markdown",
      "metadata": {
        "id": "1QNUqBd3cZ1n"
      },
      "source": [
        "## 머신러닝이 뛰어난 분야\n",
        "\n",
        "- 기존 솔루션으로는 많은 수동 조정과 규칙이 필요한 문제: 하나의 머신러닝 모델이 코드를 간단하게 만들고 전통적인 방법보다 더 잘 수행되도록 할 수 있다.\n",
        "\n",
        "- 전통적인 방식으로는 해결 방법이 없는 복잡한 문제: 가장 뛰어난 머신러닝 기법으로 해결 방법을 찾을 수 있다.\n",
        "\n",
        "- 유동적인 환경: 머신러닝 시스템은 새로운 데이터에 적응할 수 있다.\n",
        "\n",
        "- 복잡한 문제와 대량의 데이터에서 통찰 얻기.\n",
        "\n",
        "\n",
        "## 머신러닝 시스템의 종류\n",
        "\n",
        "- 사람의 감독하에 훈련하는 것인지 그렇지 않은 것인지(지도 ,비지도, 준비도, 강화 학습)\n",
        "\n",
        "- 실시간으로 점진적인 학습을 하는지 아닌지(온라인 학습과 배치 학습)\n",
        "\n",
        "- 단순하게 알고 있는 데이터 포인트와 새 데이터 포인트를 비교하는 것인지, 아니면 과학자들이 하는 것처럼 훈련 데이터셋에서 패턴을 발견하여 예측 모델을 만드는지(사례 기반 학습과 모델 기반 학습) \n",
        "\n",
        "\n",
        "### 머신러닝 시스템은 '학습하는 동안의 감독 형태나 정보량'에 따라 분류할 수 있다.\n",
        "\n",
        "## 지도 학습: 알고리즘에 주입하는 훈련 데이터에 레이블이라는 원하는 답이 포함됨\n",
        "\n",
        "- k-최근접 이웃\n",
        "- 선형 회귀\n",
        "- 로지스틱 회귀\n",
        "- 서포트 벡터 머신\n",
        "- 결정 트리, 랜덤포레스트\n",
        "- 신경망\n",
        "\n",
        "## 비지도 학습: 훈련 데이터에 레이블이 없다. 시스템이 아무런 도움 없이 학습해야 한다.\n",
        "\n",
        "### 군집\n",
        "- k-평균\n",
        "- DBSCAN\n",
        "- 계층 군집 분석(HCA)\n",
        "- 이상치 탐지와 특이치 탐지\n",
        "- 원-클래스\n",
        "- 아이솔레이션 포레스트\n",
        "\n",
        "### 시각화와 차원 축소\n",
        "- 주성분 분석\n",
        "- 커널 PCA\n",
        "- 지역적 선형 임베딩(LLE)\n",
        "- t-SNE\n",
        "\n",
        "### 연관 규칙 학습\n",
        "- 어프라이어리(Apriori)\n",
        "- 이클렛\n",
        "\n",
        "\n",
        "## 준지도 학습: 레이블이 있는 샘플이 있고 없는 샘플을 다루는 것을 준지도 학습이라 한다.\n",
        "\n",
        "대부분의 준지도 학습 알고리즘은 지도 학습과 비지도 학습의 조합으로 이루어져 있다.(심층 신뢰 신경망)\n",
        "\n",
        "\n",
        "## 강화 학습: 학습하는 시스템을 에이전트라 부르며 환경을 관찰해서 행동을 실행하고 그 결과로 보상 또는 벌점을 받는다. 시간이 지나면서 가장 큰 보상을 얻기 위해 정책이라고 부르는 최상의 전략을 스스로 학습한다. 정책은 주어진 상황에서 에이전트가 어떤 행동을 선택해야 할지 정의한다.\n",
        "\n",
        "## 배치 학습과 온라인 학습\n",
        "\n",
        "머신러닝 시스템을 분류하는 데 사용하는 다른 기준은 입력 데이터의 스트림으로부터 점진적으로 학습할 수 있는지 여부이다.\n",
        "\n",
        "## 배치 학습\n",
        "배치 학습에서는 시스템이 점진적으로 학습할 수 없다. 학습한 것을 단지 적용만 함. 이를 오프라인 학습이라고 한다.\n",
        "\n",
        "## 온라인 학습\n",
        "온라인 학습에서는 데이터를 순차적으로 한 개씩 또는 미니배치라 부르는 작은 묶은 단위로 주입하여 시스템을 훈련시킨다. 매 학습 단계가 빠르고 비용이 적게 들어 시스템은 데이터가 도착하는 대로 즉시 학습할 수 있다.\n",
        "\n",
        "빠른 변화에 적응이 필요하거나 컴퓨팅 자원이 제한된 경우에 좋은 선택이다.\n",
        "\n",
        "## 학습률\n",
        "온라인 학습 시스템에서 중요한 파라미터 하나는 변화하는 데이터에서 얼마나 바르게 적응할 것인지이다. 이를 학습률이라고 한다. 학습률을 높게 하면 시스템이 데이터에 따르게 적응하지만 예전 데이터를 금방 잊어버리게 된다.\n",
        "\n",
        "반대로 학습률이 낮으면 시스템의 관성이 더 커져서 더 느리게 학습된다. 하지만 새로운 데이터에 있는 잡음이나 대표성 없는 데이터 포인트에 덜 민감해진다.\n",
        "\n",
        "온라인 학습에서 가장 큰 문제점은 시스템에 나쁜 데이터가 주입되었을 때 시스템 성능이 점진적으로 감소한다는 점이다. 이런 위험을 줄이려면 시스템을 면밀히 모니터링하고 성능 감소가 감지되면 즉각 학습을 중지시켜야 한다.\n",
        "\n",
        "\n",
        "## 사례 기반 학습과 모델 기반 학습\n",
        "\n",
        "## 사례 기반 학습\n",
        "시스템이 훈련 샘플을 기억함으로써 학습. 유사도 측정을 사용해 새로운 데이터와ㅓ 학습한 샘플을 비교하는 식으로 일반화 함.\n",
        "\n",
        "## 모델 기반 학습\n",
        "샘플들의 모델을 만들어 예측에 사용하는 것.\n",
        "\n",
        "모델의 측정 지표를 정해야 한다.\n",
        "\n",
        "효용 함수: 모델이 얼마나 좋은지 측정하는 함수\n",
        "\n",
        "비용 함수: 모델이 얼마나 나쁜지 특정하는 함수\n",
        "\n",
        "\n",
        "## 머신러닝 프로젝트 작업의 형태\n",
        "\n",
        "1. 데이터를 분석한다.\n",
        "2. 모델을 선탣한다.\n",
        "3. 훈련 데이터로 모델을 훈련시킨다.(학습 알고리즘이 비용 함수를 최소화하는 모델 파라미터를 찾는다.)\n",
        "4. 새로운 데이터에 모델을 적용해 예측을 하고(추론), 이 모델이 잘 일반회되길 기대한다."
      ],
      "id": "1QNUqBd3cZ1n"
    },
    {
      "cell_type": "code",
      "metadata": {
        "id": "bc983395"
      },
      "source": [
        "import sys\n",
        "assert sys.version_info >= (3,5)"
      ],
      "id": "bc983395",
      "execution_count": 1,
      "outputs": []
    },
    {
      "cell_type": "code",
      "metadata": {
        "colab": {
          "base_uri": "https://localhost:8080/",
          "height": 35
        },
        "id": "0201b5d2",
        "outputId": "ec45facb-5fac-48fd-ff85-c1420927b5ee"
      },
      "source": [
        "import sklearn\n",
        "sklearn.__version__"
      ],
      "id": "0201b5d2",
      "execution_count": 2,
      "outputs": [
        {
          "output_type": "execute_result",
          "data": {
            "application/vnd.google.colaboratory.intrinsic+json": {
              "type": "string"
            },
            "text/plain": [
              "'0.22.2.post1'"
            ]
          },
          "metadata": {},
          "execution_count": 2
        }
      ]
    },
    {
      "cell_type": "code",
      "metadata": {
        "id": "850a64d3"
      },
      "source": [
        "def prepare_country_stats(oecd_bli, gdp_per_capita):\n",
        "    oecd_bli = oecd_bli[oecd_bli[\"INEQUALITY\"]==\"TOT\"]\n",
        "    oecd_bli = oecd_bli.pivot(index=\"Country\", columns=\"Indicator\", values=\"Value\")\n",
        "    gdp_per_capita.rename(columns={\"2015\": \"GDP per capita\"}, inplace=True)\n",
        "    gdp_per_capita.set_index(\"Country\", inplace=True)\n",
        "    full_country_stats = pd.merge(left=oecd_bli, right=gdp_per_capita,\n",
        "                                  left_index=True, right_index=True)\n",
        "    full_country_stats.sort_values(by=\"GDP per capita\", inplace=True)\n",
        "    remove_indices = [0, 1, 6, 8, 33, 34, 35]\n",
        "    keep_indices = list(set(range(36)) - set(remove_indices))\n",
        "    return full_country_stats[[\"GDP per capita\", 'Life satisfaction']].iloc[keep_indices]"
      ],
      "id": "850a64d3",
      "execution_count": 3,
      "outputs": []
    },
    {
      "cell_type": "code",
      "metadata": {
        "colab": {
          "base_uri": "https://localhost:8080/"
        },
        "id": "S7Mq7st3XWoz",
        "outputId": "368a82b0-fefd-4b96-f599-5ec0c69252df"
      },
      "source": [
        "from google.colab import drive\n",
        "drive.mount('/content/drive')"
      ],
      "id": "S7Mq7st3XWoz",
      "execution_count": 4,
      "outputs": [
        {
          "output_type": "stream",
          "name": "stdout",
          "text": [
            "Mounted at /content/drive\n"
          ]
        }
      ]
    },
    {
      "cell_type": "code",
      "metadata": {
        "id": "7a9a512f"
      },
      "source": [
        "#import os\n",
        "datapath = \"/content/drive/MyDrive/Hands-On Machine Learning/datasets/lifesat/\""
      ],
      "id": "7a9a512f",
      "execution_count": 9,
      "outputs": []
    },
    {
      "cell_type": "code",
      "metadata": {
        "id": "31c4bc9a"
      },
      "source": [
        "%matplotlib inline\n",
        "import matplotlib as mlp\n",
        "plt.rc('axes', labelsize=14)\n",
        "plt.rc('xtick', labelsize=12)\n",
        "plt.rc('ytick', labelsize=12)"
      ],
      "id": "31c4bc9a",
      "execution_count": 11,
      "outputs": []
    },
    {
      "cell_type": "code",
      "metadata": {
        "id": "df257901"
      },
      "source": [
        "import matplotlib.pyplot as plt\n",
        "import numpy as np\n",
        "import pandas as pd\n",
        "import sklearn.linear_model\n",
        "\n",
        "# 데이터 적재\n",
        "oecd_bli = pd.read_csv(datapath + \"oecd_bli_2015.csv\", thousands=',')\n",
        "gdp_per_capita = pd.read_csv(datapath + \"gdp_per_capita.csv\",thousands=',',delimiter='\\t',\n",
        "                            encoding='latin1',na_values=\"n/a\")"
      ],
      "id": "df257901",
      "execution_count": 10,
      "outputs": []
    },
    {
      "cell_type": "code",
      "metadata": {
        "colab": {
          "base_uri": "https://localhost:8080/",
          "height": 304
        },
        "id": "2e775127",
        "outputId": "d8b532f7-47da-49d7-a53e-ecf65d2f391c"
      },
      "source": [
        "# 데이터 준비\n",
        "country_stats = prepare_country_stats(oecd_bli, gdp_per_capita)\n",
        "X = np.c_[country_stats['GDP per capita']]\n",
        "y = np.c_[country_stats['Life satisfaction']]\n",
        "\n",
        "# 데이터 시각화\n",
        "country_stats.plot(kind='scatter', x ='GDP per capita', y='Life satisfaction')\n",
        "plt.show()\n",
        "\n",
        "# 선형 모델링\n",
        "model = sklearn.linear_model.LinearRegression()\n",
        "\n",
        "# 모델 훈련\n",
        "model.fit(X, y)\n",
        "\n",
        "# 키프로스에 대한 예측\n",
        "X_new = [[22587]]\n",
        "print(model.predict(X_new))"
      ],
      "id": "2e775127",
      "execution_count": 12,
      "outputs": [
        {
          "output_type": "display_data",
          "data": {
            "image/png": "[encoded data removed]",
            "text/plain": [
              "<Figure size 432x288 with 1 Axes>"
            ]
          },
          "metadata": {
            "needs_background": "light"
          }
        },
        {
          "output_type": "stream",
          "name": "stdout",
          "text": [
            "[[5.96242338]]\n"
          ]
        }
      ]
    },
    {
      "cell_type": "code",
      "metadata": {
        "colab": {
          "base_uri": "https://localhost:8080/"
        },
        "id": "KUbrzSZFZXaB",
        "outputId": "31d78603-ce1e-4726-97e6-a43581898081"
      },
      "source": [
        "# k-최근접 이웃 회귀\n",
        "\n",
        "import sklearn.neighbors\n",
        "model1 = sklearn.neighbors.KNeighborsRegressor(n_neighbors = 3)\n",
        "\n",
        "# 훈련\n",
        "model1.fit(X,y)\n",
        "\n",
        "# 예측\n",
        "print(model1.predict(X_new))"
      ],
      "id": "KUbrzSZFZXaB",
      "execution_count": 13,
      "outputs": [
        {
          "output_type": "stream",
          "name": "stdout",
          "text": [
            "[[5.76666667]]\n"
          ]
        }
      ]
    },
    {
      "cell_type": "markdown",
      "metadata": {
        "id": "On1UtrUNv9J5"
      },
      "source": [
        "# 머신러닝의 주요 도전 과제\n",
        "\n",
        "## 충분하지 않은 양의 훈련 데이터\n",
        "- 데이터의 양은 알고리즘만큼 중요하다.\n",
        "\n",
        "## 대표성이 없는 훈련 데이터\n",
        "- 샘플이 작으면 샘플링 잡음이 발생, 큰 샘플도 표본 추출이 잘못되면 대표성이 없을 수 있다. 이를 샘플링 편향이라고 한다.\n",
        "\n",
        "## 낮은 품질의 데이터\n",
        "- 훈련 데이터가 에러, 이상치, 잡음으로 가득하면 시스템이 잘 작동하지 않음\n",
        "- 일부 샘플이 이상치라는 게 명확하면 간단히 그것들을 무시하거나 수동으로 잘못된 것을 고치는 것이 좋다.\n",
        "- 일부 샘플에 특성 몇 개가 빠져있다면, 이 특성을 모두 무시할지, 이 샘플을 무시할지, 바진 값을 채울지, 또는 이 특성을 넣은 모델과 제외한 모델을 따로 훈련시킬 것인지 결정해야 한다.\n",
        "\n",
        "## 관련 없는 특성\n",
        "성공적인 머신러닝 프로젝트의 핵심 요소는 훈련에 사용할 좋은 특성을 찾는 것이다.\n",
        "이 과정을 특성 공학이라 한다.\n",
        "- 특성 선택: 가지고 있는 특성 중에서 훈련에 가장 유용한 특성을 선택한다.\n",
        "- 특성 추출: 특성을 결합하여 더 유용한 특성을 만든다.\n",
        "- 새로운 데이터를 수집해 새 특성을 만든다.\n",
        "\n",
        "## 훈련 데이터 과대적합\n",
        "모델을 단순하게 하고 과대적합의 위험을 감소시키기 위해 모델에 제약을 가하는 것을 규제라고 한다. \n",
        "\n",
        "학습하는 동안 적용할 규제의 양은 하이퍼파라미터가 결정한다. 하이퍼파라미터는 학습 알고리즘의 파라미터이다. 그래서 학습 알고리즘으로부터 영향을 받지 않으며, 훈련 전에 미리 지정되고, 훈련하는 동안에는 상수로 남아있다.\n",
        "\n",
        "## 훈련 데이터 과소적합\n",
        "모델이 너무 단순해서 데이터의 내재된 구조를 학습하지 못할 때 일어난다.\n",
        "이 문제를 해결하는 주요 기법은 다음과 같다.\n",
        "- 모델 파라미터가 더 많은 강력한 모델을 선택한다.\n",
        "- 학습 알고리즘에 더 좋은 특성을 제공한다.\n",
        "- 모델의 제약을 줄인다.\n",
        "\n",
        "## 하이퍼파라미터 튜닝과 모델 선택\n",
        "홀드아웃 검증, 검증 세트, 교차 검증\n",
        "\n",
        "테스트세트에 너무 과적합된 모델의 하이퍼파라미터를 튜닝하기 위해 검증 세트가 추가로 필요하다.\n",
        "\n",
        "# 데이터 불일치\n",
        "훈련-개발 세트"
      ],
      "id": "On1UtrUNv9J5"
    },
    {
      "cell_type": "code",
      "metadata": {
        "id": "3DvO2HRBZ5K6"
      },
      "source": [
        ""
      ],
      "id": "3DvO2HRBZ5K6",
      "execution_count": null,
      "outputs": []
    }
  ]
}